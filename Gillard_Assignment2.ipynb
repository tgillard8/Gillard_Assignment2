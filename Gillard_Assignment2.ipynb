{
 "cells": [
  {
   "cell_type": "code",
   "execution_count": 4,
   "id": "aedff443",
   "metadata": {},
   "outputs": [
    {
     "name": "stdout",
     "output_type": "stream",
     "text": [
      "Assignment 2 'Strings', Gillard\n"
     ]
    }
   ],
   "source": [
    "print(\"Assignment 2 'Strings', Gillard\")"
   ]
  },
  {
   "cell_type": "code",
   "execution_count": null,
   "id": "3a5c4047",
   "metadata": {},
   "outputs": [],
   "source": [
    "###1 "
   ]
  },
  {
   "cell_type": "code",
   "execution_count": 24,
   "id": "e1f0ca5a",
   "metadata": {},
   "outputs": [
    {
     "name": "stdout",
     "output_type": "stream",
     "text": [
      "Student: Linus Benedict Torvalds\n",
      "Username: torvallb, Password: libnd1969\n",
      "\n",
      "Student: Alan Mathison Turing\n",
      "Username: turingam, Password: althn5346\n",
      "\n",
      "Student: Stephan Gary Wozniak\n",
      "Username: wozniasg, Password: str3720\n",
      "\n",
      "Student: Adele Goldberg \n",
      "Username: ag, Password: adldb2345\n",
      "\n"
     ]
    }
   ],
   "source": [
    "#student data\n",
    "students = [\n",
    "    (\"Linus\", \"Benedict\", \"Torvalds\", \"(317)-555-1969\"),\n",
    "    (\"Alan\", \"Mathison\", \"Turing\", \"(317)-555-5346\"),\n",
    "    (\"Stephan\", \"Gary\", \"Wozniak\", \"(317)-555-3720\"),\n",
    "    (\"Adele\", \"Goldberg\", \"\", \"(317)-555-2345\")\n",
    "]\n",
    "\n",
    "\n",
    "#username - 6 letters of last name, 1 letter of first name, 1 letter of middle name\n",
    "def generate_username(first_name, middle_name, last_name):\n",
    "    username = last_name[:6] + first_name[0] + middle_name[0]\n",
    "    return username.lower()\n",
    "\n",
    "#password - 2 letters of first name, 3 even letters of middle name, 4 digits of phone number\n",
    "def generate_password(first_name, middle_name, phone_number):\n",
    "    password = first_name[:2].lower()\n",
    "\n",
    "#even letters for password\n",
    "    even_letters = [letter for letter in middle_name if ord(letter) % 2 == 0]\n",
    "    password += ''.join(even_letters[:3]).lower()\n",
    "\n",
    "#4 digits of phone number\n",
    "    password += phone_number[-4:]\n",
    "    return password\n",
    "\n",
    "#generate and display usernames and passwords\n",
    "for first_name, middle_name, last_name, phone_number in students:\n",
    "    username = generate_username(first_name, middle_name, last_name)\n",
    "    password = generate_password(first_name, middle_name, phone_number)\n",
    "    print(f\"Student: {first_name} {middle_name} {last_name}\")\n",
    "    print(f\"Username: {username}, Password: {password}\\n\")\n"
   ]
  },
  {
   "cell_type": "code",
   "execution_count": null,
   "id": "455fe2d0",
   "metadata": {},
   "outputs": [],
   "source": [
    "###2"
   ]
  },
  {
   "cell_type": "code",
   "execution_count": 34,
   "id": "b71ac114",
   "metadata": {},
   "outputs": [
    {
     "name": "stdout",
     "output_type": "stream",
     "text": [
      "simple in Pig Latin is: implesay\n",
      "friends in Pig Latin is: iendsfray\n",
      "omelet in Pig Latin is: omeletay\n",
      "ions in Pig Latin is: ionsay\n"
     ]
    }
   ],
   "source": [
    "#defining functions\n",
    "def is_vowel(char):\n",
    "    vowels = \"aeiouAEIOU\"\n",
    "    return char in vowels\n",
    "\n",
    "def pig_latin_sample(word):\n",
    "    if len(word) == 0:\n",
    "        return word\n",
    "\n",
    "    if is_vowel(word[0]):\n",
    "        return word + \"ay\"\n",
    "    else:\n",
    "        i = 0\n",
    "        while i < len(word) and not is_vowel(word[i]):\n",
    "            i += 1\n",
    "        return word[i:] + word[:i] + \"ay\"\n",
    "\n",
    "#input words\n",
    "word = [\"simple\", \"friends\", \"omelet\", \"ions\"]\n",
    "\n",
    "for word in words:\n",
    "    pig_latin = pig_latin_sample(word)\n",
    "    print(f\"{word} in Pig Latin is: {pig_latin}\")\n"
   ]
  },
  {
   "cell_type": "code",
   "execution_count": null,
   "id": "5cc38208",
   "metadata": {},
   "outputs": [],
   "source": []
  }
 ],
 "metadata": {
  "kernelspec": {
   "display_name": "Python 3 (ipykernel)",
   "language": "python",
   "name": "python3"
  },
  "language_info": {
   "codemirror_mode": {
    "name": "ipython",
    "version": 3
   },
   "file_extension": ".py",
   "mimetype": "text/x-python",
   "name": "python",
   "nbconvert_exporter": "python",
   "pygments_lexer": "ipython3",
   "version": "3.11.5"
  }
 },
 "nbformat": 4,
 "nbformat_minor": 5
}
